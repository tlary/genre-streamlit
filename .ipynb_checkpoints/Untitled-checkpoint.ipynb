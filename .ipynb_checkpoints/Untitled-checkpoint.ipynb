{
 "cells": [
  {
   "cell_type": "markdown",
   "metadata": {},
   "source": [
    "# Deploying ML Models the easy way - Streamlit"
   ]
  },
  {
   "cell_type": "markdown",
   "metadata": {},
   "source": [
    "In the [previous post] I described the process and steps required to deploy a Machine Learning model such that it can be used in production and actually generate value. The app was built using the web framework Flask and the project was deployed using Heroku.\n",
    "\n",
    "As a reminder: to create the App we had to know some HTML and web development basics -  things most Data Scientist neither have nor are really interested in. The App also lacked any kind of styling and looks ... well .. at least it gets the job done. \n",
    "\n",
    "In this post, I'll introduce an alternative to this approach, for which no web development knowledge is needed at all. The package I'm going to use is called [Streamlit](https://www.streamlit.io/) and is especially useful for programmers who quickly want to get their models into production or simply to showcase their work. It comes with pretty and consistent styling and takes care of all the design and front end for you. \n",
    "\n",
    "I am going to rebuild this [Genre Classification App](https://whichgenreisthis.herokuapp.com/) in Streamlit with only very few lines of code. As usual, we start by importing the required packages for this project:"
   ]
  },
  {
   "cell_type": "code",
   "execution_count": null,
   "metadata": {},
   "outputs": [],
   "source": [
    "import streamlit as st\n",
    "import numpy as np\n",
    "import pandas as pd\n",
    "import pickle\n",
    "from fastai.text.all import *\n",
    "import sentencepiece"
   ]
  },
  {
   "cell_type": "markdown",
   "metadata": {},
   "source": [
    "We start off by giving our app a title using the `st.title()` function. Streamlit titles and texts are also able to handle emojis in markdown form, we also make use of it."
   ]
  },
  {
   "cell_type": "code",
   "execution_count": null,
   "metadata": {},
   "outputs": [],
   "source": [
    "st.title(\"Classify your (German) lyrics! :tada::microphone::notes:\")"
   ]
  },
  {
   "cell_type": "markdown",
   "metadata": {},
   "source": [
    "Streamlit comes with a [variety of widgets](https://share.streamlit.io/daniellewisdl/streamlit-cheat-sheet/app.py) that can be used as user input, for example, text input, slider, or predefined selections. These widgets can furthermore be organized in different sections: on the main page, in a sidebar or in so-called \n",
    "\n",
    "treamlit provides a (https://docs.streamlit.io/en/stable/main_concepts.html#)"
   ]
  }
 ],
 "metadata": {
  "kernelspec": {
   "display_name": "venvLyrics",
   "language": "python",
   "name": "venvlyrics"
  },
  "language_info": {
   "codemirror_mode": {
    "name": "ipython",
    "version": 3
   },
   "file_extension": ".py",
   "mimetype": "text/x-python",
   "name": "python",
   "nbconvert_exporter": "python",
   "pygments_lexer": "ipython3",
   "version": "3.8.6"
  },
  "varInspector": {
   "cols": {
    "lenName": 16,
    "lenType": 16,
    "lenVar": 40
   },
   "kernels_config": {
    "python": {
     "delete_cmd_postfix": "",
     "delete_cmd_prefix": "del ",
     "library": "var_list.py",
     "varRefreshCmd": "print(var_dic_list())"
    },
    "r": {
     "delete_cmd_postfix": ") ",
     "delete_cmd_prefix": "rm(",
     "library": "var_list.r",
     "varRefreshCmd": "cat(var_dic_list()) "
    }
   },
   "types_to_exclude": [
    "module",
    "function",
    "builtin_function_or_method",
    "instance",
    "_Feature"
   ],
   "window_display": false
  }
 },
 "nbformat": 4,
 "nbformat_minor": 4
}
